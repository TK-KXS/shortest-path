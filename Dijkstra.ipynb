{
 "cells": [
  {
   "cell_type": "code",
   "execution_count": 1,
   "metadata": {},
   "outputs": [],
   "source": [
    "import matplotlib.pyplot as plt\n",
    "import numpy as np"
   ]
  },
  {
   "cell_type": "markdown",
   "metadata": {},
   "source": [
    "# Dijkstra Algorithm: Grid Version"
   ]
  },
  {
   "cell_type": "code",
   "execution_count": 11,
   "metadata": {},
   "outputs": [],
   "source": [
    "def create_workspace(node_coor,start_node):\n",
    "    workspace = []\n",
    "    for i in range(len(node_coor)):\n",
    "        workspace.append([float('Inf'),'_'])\n",
    "    workspace[start_node] = [0,'XX']\n",
    "    return workspace\n",
    "\n",
    "def distance(node_coor,node1,node2):\n",
    "    x1 = node_coor[node1][0]\n",
    "    x2 = node_coor[node2][0]\n",
    "    y1 = node_coor[node1][1]\n",
    "    y2 = node_coor[node2][1]\n",
    "    d_euclidean = ((x1-x2)**2 + (y1-y2)**2)**0.5\n",
    "    d_manhattan = abs(x1-x2) + abs(y1-y2)\n",
    "    return d_manhattan\n",
    "\n",
    "def get_min_index(workspace,unvisited):\n",
    "    check_dict = dict()\n",
    "    for i in unvisited:\n",
    "         check_dict[i] = workspace[i][0]\n",
    "    if not check_dict == {}:\n",
    "        return min(check_dict)\n",
    "    else:\n",
    "        return \"NO ROUTE AVAILABLE\""
   ]
  },
  {
   "cell_type": "markdown",
   "metadata": {},
   "source": [
    "Input"
   ]
  },
  {
   "cell_type": "code",
   "execution_count": 12,
   "metadata": {},
   "outputs": [],
   "source": [
    "size = 20 # 20 by 20 Grid\n",
    "wall_index = [114,113,133,153,173,193,213,233,253,273,272,271,270,269,268,288,308,309,310,311,312,313,314,315] # Missing (Unavailable) nodes\n",
    "start_node = 42\n",
    "end_node = 378"
   ]
  },
  {
   "cell_type": "markdown",
   "metadata": {},
   "source": [
    "Important variables for creating grid"
   ]
  },
  {
   "cell_type": "code",
   "execution_count": 13,
   "metadata": {},
   "outputs": [],
   "source": [
    "def get_neighbor(rstart,rstop,cstart,cstop,exclude):\n",
    "    list1 = grid[rstart:rstop,cstart:cstop].tolist()\n",
    "    list2 = []\n",
    "    for i in list1:\n",
    "        for j in i:\n",
    "            list2.append(j)\n",
    "    list2.remove(exclude)\n",
    "    return list2\n",
    "\n",
    "node_coor = []\n",
    "for i in range(size):\n",
    "    for j in range(size):\n",
    "        node_coor.append((i,j))\n",
    "\n",
    "node_index = [int(i) for i in range(len(node_coor))]\n",
    "\n",
    "for n in wall_index:\n",
    "    if n in node_index:\n",
    "        index = node_index.index(n)\n",
    "        node_index[index] = 'X'\n",
    "    else: print(\"Unavailable Node\")\n",
    "\n",
    "grid = np.array(node_index).reshape((size,size))\n",
    "\n",
    "ref = [(0,2)]\n",
    "for i in range(size-2):\n",
    "    ref.append((i,i+3))\n",
    "ref.append((size-2,size))\n",
    "\n",
    "neighbor = []\n",
    "for r in range(len(grid)):\n",
    "    for c in range(len(grid[i])):\n",
    "        neighbor.append(get_neighbor(ref[r][0],ref[r][1],ref[c][0],ref[c][1],grid[r][c]))\n",
    "\n",
    "for i in range(len(neighbor)):\n",
    "    if 'X' in neighbor[i]:\n",
    "        dummy_list = []\n",
    "        for e in neighbor[i]:\n",
    "            if e != 'X':\n",
    "                dummy_list.append(int(e))\n",
    "        neighbor[i] = dummy_list\n",
    "    else:\n",
    "        dummy_list = []\n",
    "        for e in neighbor[i]:\n",
    "                dummy_list.append(int(e))\n",
    "        neighbor[i] = dummy_list\n",
    "\n",
    "true_neighbor = []\n",
    "for i in range(len(neighbor)):\n",
    "    if i in wall_index:\n",
    "        true_neighbor.append([])\n",
    "    else:\n",
    "        true_neighbor.append(neighbor[i])"
   ]
  },
  {
   "cell_type": "markdown",
   "metadata": {},
   "source": [
    "Main Dijkstra program"
   ]
  },
  {
   "cell_type": "code",
   "execution_count": 14,
   "metadata": {},
   "outputs": [],
   "source": [
    "visited = []\n",
    "unvisited = [i for i in range(len(node_coor))]\n",
    "workspace = create_workspace(node_coor,start_node)\n",
    "next = start_node\n",
    "while len(unvisited) != 0:\n",
    "    for i in true_neighbor[next]:\n",
    "        if i not in visited:\n",
    "            d = workspace[next][0] + distance(node_coor,next,i)\n",
    "            if d < workspace[i][0]:\n",
    "                workspace[i][0] = d\n",
    "                workspace[i][1] = next\n",
    "    next = get_min_index(workspace,unvisited)\n",
    "    visited.append(next)\n",
    "    unvisited.remove(next)"
   ]
  },
  {
   "cell_type": "markdown",
   "metadata": {},
   "source": [
    "Output"
   ]
  },
  {
   "cell_type": "code",
   "execution_count": 15,
   "metadata": {},
   "outputs": [
    {
     "data": {
      "image/png": "[encoded data removed]",
      "text/plain": [
       "<Figure size 640x480 with 1 Axes>"
      ]
     },
     "metadata": {},
     "output_type": "display_data"
    },
    {
     "name": "stdout",
     "output_type": "stream",
     "text": [
      "route= [42, 43, 44, 45, 46, 47, 48, 49, 50, 51, 52, 73, 94, 115, 135, 155, 175, 195, 215, 235, 255, 275, 295, 316, 336, 357, 378]\n",
      "distance =  32\n"
     ]
    }
   ],
   "source": [
    "route = [end_node]\n",
    "track = workspace[route[-1]][1]\n",
    "while track != 'XX':\n",
    "    track = workspace[route[-1]][1]\n",
    "    route.append(track)\n",
    "route.remove('XX')\n",
    "\n",
    "for i in visited:\n",
    "    if i not in wall_index:\n",
    "        plt.plot(node_coor[i][0],node_coor[i][1], marker='o',markersize=2, color='lightskyblue')\n",
    "for i in route:\n",
    "    plt.plot(node_coor[i][0],node_coor[i][1], marker='o',markersize=4, color='forestgreen')\n",
    "for i in range(len(route)-1):\n",
    "    x1 = node_coor[route[i]][0]\n",
    "    x2 = node_coor[route[i+1]][0]\n",
    "    y1 = node_coor[route[i]][1]\n",
    "    y2 = node_coor[route[i+1]][1]\n",
    "    plt.plot([x1,x2], [y1,y2], marker='o',markersize=4, color='forestgreen', linestyle=\"-\")\n",
    "plt.plot(node_coor[start_node][0],node_coor[start_node][1],marker='o',markersize=8, color='orange')\n",
    "plt.plot(node_coor[end_node][0],node_coor[end_node][1], marker='o',markersize=8, color='crimson')\n",
    "plt.title('Djikstra: Show solution')\n",
    "plt.xlim(-1,size+1)\n",
    "plt.ylim(-1,size+1)\n",
    "plt.show()\n",
    "\n",
    "print('route=', route[::-1])\n",
    "\n",
    "d = 0\n",
    "for i in range(len(route)-1):\n",
    "    d += distance(node_coor,route[i],route[i+1])\n",
    "print('distance = ', d)"
   ]
  },
  {
   "cell_type": "markdown",
   "metadata": {},
   "source": [
    "# Dijkstra Algorithm: Coordinate Version"
   ]
  },
  {
   "cell_type": "code",
   "execution_count": 16,
   "metadata": {},
   "outputs": [],
   "source": [
    "def show_nodes_with_links(node_coor,neighbor):\n",
    "    c = 0\n",
    "    for node in node_coor:\n",
    "        x = node[0]\n",
    "        y = node[1]\n",
    "        plt.plot(x,y,'ko', markersize=4)\n",
    "        plt.text(x+0.05,y+0.05, str(c) + '(' + str(x)+ ',' + str(y) + ')',fontsize=8)\n",
    "        c += 1\n",
    "    for i in range(len(neighbor)):\n",
    "        for j in neighbor[i]:\n",
    "            x1 = node_coor[i][0]\n",
    "            x2 = node_coor[j][0]\n",
    "            y1 = node_coor[i][1]\n",
    "            y2 = node_coor[j][1]\n",
    "            plt.plot([x1,x2], [y1,y2], marker='o',markersize=4, color='royalblue', linestyle=\"-\")\n",
    "            plt.text((x1+x2)/2,(y1+y2)/2, distance(node_coor,i,j),fontsize=8)\n",
    "    plt.xlim(-1, 16)\n",
    "    plt.ylim(-1, 16)\n",
    "    plt.grid()\n",
    "    plt.show()\n",
    "\n",
    "def show_solution(node_coor,neighbor,route):\n",
    "    c = 0\n",
    "    for node in node_coor:\n",
    "        x = node[0]\n",
    "        y = node[1]\n",
    "        plt.plot(x,y,'ko', markersize=4)\n",
    "        plt.text(x+0.05,y+0.05, str(c) + '(' + str(x)+ ',' + str(y) + ')',fontsize=8)\n",
    "        c += 1\n",
    "    for i in range(len(neighbor)):\n",
    "        for j in neighbor[i]:\n",
    "            x1 = node_coor[i][0]\n",
    "            x2 = node_coor[j][0]\n",
    "            y1 = node_coor[i][1]\n",
    "            y2 = node_coor[j][1]\n",
    "            plt.plot([x1,x2], [y1,y2], marker='o',markersize=4, color='lightgray', linestyle=\"-\")\n",
    "            plt.text((x1+x2)/2,(y1+y2)/2, distance(node_coor,i,j),fontsize=8)\n",
    "    for i in range(len(route)-1):\n",
    "        x1 = node_coor[route[i]][0]\n",
    "        x2 = node_coor[route[i+1]][0]\n",
    "        y1 = node_coor[route[i]][1]\n",
    "        y2 = node_coor[route[i+1]][1]\n",
    "        plt.plot([x1,x2], [y1,y2], marker='o',markersize=4, color='mediumseagreen', linestyle=\"-\")\n",
    "        plt.text((x1+x2)/2,(y1+y2)/2, distance(node_coor,i,j),fontsize=8)\n",
    "    plt.xlim(-1, 16)\n",
    "    plt.ylim(-1, 16)\n",
    "    plt.grid()\n",
    "    plt.show()\n",
    "\n",
    "def create_workspace(node_coor,start_node):\n",
    "    workspace = []\n",
    "    for i in range(len(node_coor)):\n",
    "        workspace.append([float('Inf'),'_'])\n",
    "    workspace[start_node] = [0,'XX']\n",
    "    return workspace\n",
    "\n",
    "def distance(node_coor,node1,node2):\n",
    "    x1 = node_coor[node1][0]\n",
    "    x2 = node_coor[node2][0]\n",
    "    y1 = node_coor[node1][1]\n",
    "    y2 = node_coor[node2][1]\n",
    "    d_euclidean = ((x1-x2)**2 + (y1-y2)**2)**0.5\n",
    "    d_manhattan = abs(x1-x2) + abs(y1-y2)\n",
    "    return d_manhattan\n",
    "\n",
    "def get_min_index(workspace,unvisited):\n",
    "    check_dict = dict()\n",
    "    for i in unvisited:\n",
    "         check_dict[i] = workspace[i][0]\n",
    "    if not check_dict == {}:\n",
    "        return min(check_dict)\n",
    "    else:\n",
    "        return \"NO ROUTE AVAILABLE\""
   ]
  },
  {
   "cell_type": "markdown",
   "metadata": {},
   "source": [
    "Input"
   ]
  },
  {
   "cell_type": "code",
   "execution_count": 17,
   "metadata": {},
   "outputs": [],
   "source": [
    "node_coor = [(0.6,7),(6.8,7.4),(12.9,5.7),(5.4,14.5),(9.2,11.8)]\n",
    "neighbor = [[1,2],[0,2,3],[0,1,4],[1,2,4],[2,3]]\n",
    "start_node = 0\n",
    "end_node = 4\n",
    "# start_node > end_node !!!"
   ]
  },
  {
   "cell_type": "markdown",
   "metadata": {},
   "source": [
    "Main Dijkstra program"
   ]
  },
  {
   "cell_type": "code",
   "execution_count": 18,
   "metadata": {},
   "outputs": [],
   "source": [
    "visited = []\n",
    "unvisited = [i for i in range(len(node_coor))]\n",
    "workspace = create_workspace(node_coor,start_node)\n",
    "next = start_node\n",
    "while len(unvisited) != 0:\n",
    "    for i in neighbor[next]:\n",
    "        if i not in visited:\n",
    "            d = workspace[next][0] + distance(node_coor,next,i)\n",
    "            if d < workspace[i][0]:\n",
    "                workspace[i][0] = d\n",
    "                workspace[i][1] = next\n",
    "    next = get_min_index(workspace,unvisited)\n",
    "    visited.append(next)\n",
    "    unvisited.remove(next)"
   ]
  },
  {
   "cell_type": "markdown",
   "metadata": {},
   "source": [
    "Output"
   ]
  },
  {
   "cell_type": "code",
   "execution_count": 19,
   "metadata": {},
   "outputs": [
    {
     "data": {
      "image/png": "[encoded data removed]",
      "text/plain": [
       "<Figure size 640x480 with 1 Axes>"
      ]
     },
     "metadata": {},
     "output_type": "display_data"
    },
    {
     "name": "stdout",
     "output_type": "stream",
     "text": [
      "route= [0, 1, 3, 4]\n",
      "distance =  21.599999999999998\n"
     ]
    }
   ],
   "source": [
    "route = [end_node]\n",
    "track = workspace[route[-1]][1]\n",
    "while track != 'XX':\n",
    "    track = workspace[route[-1]][1]\n",
    "    route.append(track)\n",
    "route.remove('XX')\n",
    "\n",
    "for i in visited:\n",
    "    if i not in wall_index:\n",
    "        plt.plot(node_coor[i][0],node_coor[i][1], marker='o',markersize=2, color='lightskyblue')\n",
    "for i in route:\n",
    "    plt.plot(node_coor[i][0],node_coor[i][1], marker='o',markersize=4, color='forestgreen')\n",
    "for i in range(len(route)-1):\n",
    "    x1 = node_coor[route[i]][0]\n",
    "    x2 = node_coor[route[i+1]][0]\n",
    "    y1 = node_coor[route[i]][1]\n",
    "    y2 = node_coor[route[i+1]][1]\n",
    "    plt.plot([x1,x2], [y1,y2], marker='o',markersize=4, color='forestgreen', linestyle=\"-\")\n",
    "plt.plot(node_coor[start_node][0],node_coor[start_node][1],marker='o',markersize=8, color='orange')\n",
    "plt.plot(node_coor[end_node][0],node_coor[end_node][1], marker='o',markersize=8, color='crimson')\n",
    "plt.title('Djikstra: Show solution')\n",
    "plt.xlim(-1,size+1)\n",
    "plt.ylim(-1,size+1)\n",
    "plt.show()\n",
    "\n",
    "print('route=', route[::-1])\n",
    "\n",
    "d = 0\n",
    "for i in range(len(route)-1):\n",
    "    d += distance(node_coor,route[i],route[i+1])\n",
    "print('distance = ', d)"
   ]
  }
 ],
 "metadata": {
  "kernelspec": {
   "display_name": "Python 3",
   "language": "python",
   "name": "python3"
  },
  "language_info": {
   "codemirror_mode": {
    "name": "ipython",
    "version": 3
   },
   "file_extension": ".py",
   "mimetype": "text/x-python",
   "name": "python",
   "nbconvert_exporter": "python",
   "pygments_lexer": "ipython3",
   "version": "3.8.17"
  }
 },
 "nbformat": 4,
 "nbformat_minor": 2
}
